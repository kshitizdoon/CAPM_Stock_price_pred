{
 "cells": [
  {
   "cell_type": "code",
   "execution_count": 1,
   "metadata": {},
   "outputs": [],
   "source": [
    "# I hope everyone would be done with CAPM model till now. Now, let's begin with writing the code of CAPM model on Jupyter notebook.\n",
    "\n",
    "# Most of you would still required time to get familiar with Python, but try coding alongside.\n",
    "# Implementation of CAPM model using python.\n",
    "\n",
    "# Importing all the libraries.\n",
    "# Use Yahoo Finance as a data source.\n",
    "# Analyse the price of any stocks of your choice.\n",
    "# Take the other index as Nifty 50/ Sensex (return for beta= 1)\n",
    "# Feed the data from Jan 1’21 to Jan 1’22 and predict the stock price on any date(6th June'22)\n",
    " \n",
    "# Follow the steps, as explained in the class:\n",
    "# Plot the adjusted close price of any 2 stock and use linear regression for finding alpha and beta."
   ]
  },
  {
   "cell_type": "markdown",
   "metadata": {},
   "source": [
    "## Importing the necessary libraries"
   ]
  },
  {
   "cell_type": "code",
   "execution_count": 2,
   "metadata": {},
   "outputs": [],
   "source": [
    "# pip install pandas-datareader"
   ]
  },
  {
   "cell_type": "code",
   "execution_count": 95,
   "metadata": {},
   "outputs": [],
   "source": [
    "# Importing the necessary libraries\n",
    "import numpy as np\n",
    "import pandas as pd\n",
    "import matplotlib.pyplot as plt\n",
    "%matplotlib inline\n",
    "import datetime\n",
    "import pandas_datareader.data as web\n",
    "from sklearn.linear_model import LinearRegression\n",
    "from sklearn.model_selection import train_test_split\n",
    "import statsmodels.api as sm"
   ]
  },
  {
   "cell_type": "code",
   "execution_count": 4,
   "metadata": {},
   "outputs": [],
   "source": [
    "start = datetime.date(day=1,month=1,year=2021)\n",
    "end = datetime.date(day=1,month=1,year=2022)"
   ]
  },
  {
   "cell_type": "markdown",
   "metadata": {},
   "source": [
    "## Reading stock data using Data Reader"
   ]
  },
  {
   "cell_type": "code",
   "execution_count": 5,
   "metadata": {},
   "outputs": [],
   "source": [
    "df = web.DataReader(name = 'AAPL',data_source = 'yahoo',start = start,end=end)"
   ]
  },
  {
   "cell_type": "code",
   "execution_count": 6,
   "metadata": {},
   "outputs": [
    {
     "data": {
      "text/html": [
       "<div>\n",
       "<style scoped>\n",
       "    .dataframe tbody tr th:only-of-type {\n",
       "        vertical-align: middle;\n",
       "    }\n",
       "\n",
       "    .dataframe tbody tr th {\n",
       "        vertical-align: top;\n",
       "    }\n",
       "\n",
       "    .dataframe thead th {\n",
       "        text-align: right;\n",
       "    }\n",
       "</style>\n",
       "<table border=\"1\" class=\"dataframe\">\n",
       "  <thead>\n",
       "    <tr style=\"text-align: right;\">\n",
       "      <th></th>\n",
       "      <th>High</th>\n",
       "      <th>Low</th>\n",
       "      <th>Open</th>\n",
       "      <th>Close</th>\n",
       "      <th>Volume</th>\n",
       "      <th>Adj Close</th>\n",
       "    </tr>\n",
       "    <tr>\n",
       "      <th>Date</th>\n",
       "      <th></th>\n",
       "      <th></th>\n",
       "      <th></th>\n",
       "      <th></th>\n",
       "      <th></th>\n",
       "      <th></th>\n",
       "    </tr>\n",
       "  </thead>\n",
       "  <tbody>\n",
       "    <tr>\n",
       "      <th>2020-12-31</th>\n",
       "      <td>134.740005</td>\n",
       "      <td>131.720001</td>\n",
       "      <td>134.080002</td>\n",
       "      <td>132.690002</td>\n",
       "      <td>99116600.0</td>\n",
       "      <td>131.515976</td>\n",
       "    </tr>\n",
       "    <tr>\n",
       "      <th>2021-01-04</th>\n",
       "      <td>133.610001</td>\n",
       "      <td>126.760002</td>\n",
       "      <td>133.520004</td>\n",
       "      <td>129.410004</td>\n",
       "      <td>143301900.0</td>\n",
       "      <td>128.264984</td>\n",
       "    </tr>\n",
       "    <tr>\n",
       "      <th>2021-01-05</th>\n",
       "      <td>131.740005</td>\n",
       "      <td>128.429993</td>\n",
       "      <td>128.889999</td>\n",
       "      <td>131.009995</td>\n",
       "      <td>97664900.0</td>\n",
       "      <td>129.850830</td>\n",
       "    </tr>\n",
       "    <tr>\n",
       "      <th>2021-01-06</th>\n",
       "      <td>131.050003</td>\n",
       "      <td>126.379997</td>\n",
       "      <td>127.720001</td>\n",
       "      <td>126.599998</td>\n",
       "      <td>155088000.0</td>\n",
       "      <td>125.479851</td>\n",
       "    </tr>\n",
       "    <tr>\n",
       "      <th>2021-01-07</th>\n",
       "      <td>131.630005</td>\n",
       "      <td>127.860001</td>\n",
       "      <td>128.360001</td>\n",
       "      <td>130.919998</td>\n",
       "      <td>109578200.0</td>\n",
       "      <td>129.761642</td>\n",
       "    </tr>\n",
       "    <tr>\n",
       "      <th>...</th>\n",
       "      <td>...</td>\n",
       "      <td>...</td>\n",
       "      <td>...</td>\n",
       "      <td>...</td>\n",
       "      <td>...</td>\n",
       "      <td>...</td>\n",
       "    </tr>\n",
       "    <tr>\n",
       "      <th>2021-12-27</th>\n",
       "      <td>180.419998</td>\n",
       "      <td>177.070007</td>\n",
       "      <td>177.089996</td>\n",
       "      <td>180.330002</td>\n",
       "      <td>74919600.0</td>\n",
       "      <td>179.836319</td>\n",
       "    </tr>\n",
       "    <tr>\n",
       "      <th>2021-12-28</th>\n",
       "      <td>181.330002</td>\n",
       "      <td>178.529999</td>\n",
       "      <td>180.160004</td>\n",
       "      <td>179.289993</td>\n",
       "      <td>79144300.0</td>\n",
       "      <td>178.799164</td>\n",
       "    </tr>\n",
       "    <tr>\n",
       "      <th>2021-12-29</th>\n",
       "      <td>180.630005</td>\n",
       "      <td>178.139999</td>\n",
       "      <td>179.330002</td>\n",
       "      <td>179.380005</td>\n",
       "      <td>62348900.0</td>\n",
       "      <td>178.888916</td>\n",
       "    </tr>\n",
       "    <tr>\n",
       "      <th>2021-12-30</th>\n",
       "      <td>180.570007</td>\n",
       "      <td>178.089996</td>\n",
       "      <td>179.470001</td>\n",
       "      <td>178.199997</td>\n",
       "      <td>59773000.0</td>\n",
       "      <td>177.712143</td>\n",
       "    </tr>\n",
       "    <tr>\n",
       "      <th>2021-12-31</th>\n",
       "      <td>179.229996</td>\n",
       "      <td>177.259995</td>\n",
       "      <td>178.089996</td>\n",
       "      <td>177.570007</td>\n",
       "      <td>64062300.0</td>\n",
       "      <td>177.083878</td>\n",
       "    </tr>\n",
       "  </tbody>\n",
       "</table>\n",
       "<p>253 rows × 6 columns</p>\n",
       "</div>"
      ],
      "text/plain": [
       "                  High         Low        Open       Close       Volume  \\\n",
       "Date                                                                      \n",
       "2020-12-31  134.740005  131.720001  134.080002  132.690002   99116600.0   \n",
       "2021-01-04  133.610001  126.760002  133.520004  129.410004  143301900.0   \n",
       "2021-01-05  131.740005  128.429993  128.889999  131.009995   97664900.0   \n",
       "2021-01-06  131.050003  126.379997  127.720001  126.599998  155088000.0   \n",
       "2021-01-07  131.630005  127.860001  128.360001  130.919998  109578200.0   \n",
       "...                ...         ...         ...         ...          ...   \n",
       "2021-12-27  180.419998  177.070007  177.089996  180.330002   74919600.0   \n",
       "2021-12-28  181.330002  178.529999  180.160004  179.289993   79144300.0   \n",
       "2021-12-29  180.630005  178.139999  179.330002  179.380005   62348900.0   \n",
       "2021-12-30  180.570007  178.089996  179.470001  178.199997   59773000.0   \n",
       "2021-12-31  179.229996  177.259995  178.089996  177.570007   64062300.0   \n",
       "\n",
       "             Adj Close  \n",
       "Date                    \n",
       "2020-12-31  131.515976  \n",
       "2021-01-04  128.264984  \n",
       "2021-01-05  129.850830  \n",
       "2021-01-06  125.479851  \n",
       "2021-01-07  129.761642  \n",
       "...                ...  \n",
       "2021-12-27  179.836319  \n",
       "2021-12-28  178.799164  \n",
       "2021-12-29  178.888916  \n",
       "2021-12-30  177.712143  \n",
       "2021-12-31  177.083878  \n",
       "\n",
       "[253 rows x 6 columns]"
      ]
     },
     "execution_count": 6,
     "metadata": {},
     "output_type": "execute_result"
    }
   ],
   "source": [
    "df"
   ]
  },
  {
   "cell_type": "code",
   "execution_count": 7,
   "metadata": {},
   "outputs": [],
   "source": [
    "df2 = web.DataReader(name = '^GSPC',data_source = 'yahoo',start = start,end=end)"
   ]
  },
  {
   "cell_type": "code",
   "execution_count": 8,
   "metadata": {},
   "outputs": [
    {
     "data": {
      "text/html": [
       "<div>\n",
       "<style scoped>\n",
       "    .dataframe tbody tr th:only-of-type {\n",
       "        vertical-align: middle;\n",
       "    }\n",
       "\n",
       "    .dataframe tbody tr th {\n",
       "        vertical-align: top;\n",
       "    }\n",
       "\n",
       "    .dataframe thead th {\n",
       "        text-align: right;\n",
       "    }\n",
       "</style>\n",
       "<table border=\"1\" class=\"dataframe\">\n",
       "  <thead>\n",
       "    <tr style=\"text-align: right;\">\n",
       "      <th></th>\n",
       "      <th>High</th>\n",
       "      <th>Low</th>\n",
       "      <th>Open</th>\n",
       "      <th>Close</th>\n",
       "      <th>Volume</th>\n",
       "      <th>Adj Close</th>\n",
       "    </tr>\n",
       "    <tr>\n",
       "      <th>Date</th>\n",
       "      <th></th>\n",
       "      <th></th>\n",
       "      <th></th>\n",
       "      <th></th>\n",
       "      <th></th>\n",
       "      <th></th>\n",
       "    </tr>\n",
       "  </thead>\n",
       "  <tbody>\n",
       "    <tr>\n",
       "      <th>2020-12-31</th>\n",
       "      <td>3760.199951</td>\n",
       "      <td>3726.879883</td>\n",
       "      <td>3733.270020</td>\n",
       "      <td>3756.070068</td>\n",
       "      <td>3172510000</td>\n",
       "      <td>3756.070068</td>\n",
       "    </tr>\n",
       "    <tr>\n",
       "      <th>2021-01-04</th>\n",
       "      <td>3769.989990</td>\n",
       "      <td>3662.709961</td>\n",
       "      <td>3764.610107</td>\n",
       "      <td>3700.649902</td>\n",
       "      <td>5006680000</td>\n",
       "      <td>3700.649902</td>\n",
       "    </tr>\n",
       "    <tr>\n",
       "      <th>2021-01-05</th>\n",
       "      <td>3737.830078</td>\n",
       "      <td>3695.070068</td>\n",
       "      <td>3698.020020</td>\n",
       "      <td>3726.860107</td>\n",
       "      <td>4582620000</td>\n",
       "      <td>3726.860107</td>\n",
       "    </tr>\n",
       "    <tr>\n",
       "      <th>2021-01-06</th>\n",
       "      <td>3783.040039</td>\n",
       "      <td>3705.340088</td>\n",
       "      <td>3712.199951</td>\n",
       "      <td>3748.139893</td>\n",
       "      <td>6049970000</td>\n",
       "      <td>3748.139893</td>\n",
       "    </tr>\n",
       "    <tr>\n",
       "      <th>2021-01-07</th>\n",
       "      <td>3811.550049</td>\n",
       "      <td>3764.709961</td>\n",
       "      <td>3764.709961</td>\n",
       "      <td>3803.790039</td>\n",
       "      <td>5080870000</td>\n",
       "      <td>3803.790039</td>\n",
       "    </tr>\n",
       "    <tr>\n",
       "      <th>...</th>\n",
       "      <td>...</td>\n",
       "      <td>...</td>\n",
       "      <td>...</td>\n",
       "      <td>...</td>\n",
       "      <td>...</td>\n",
       "      <td>...</td>\n",
       "    </tr>\n",
       "    <tr>\n",
       "      <th>2021-12-27</th>\n",
       "      <td>4791.490234</td>\n",
       "      <td>4733.990234</td>\n",
       "      <td>4733.990234</td>\n",
       "      <td>4791.189941</td>\n",
       "      <td>2264120000</td>\n",
       "      <td>4791.189941</td>\n",
       "    </tr>\n",
       "    <tr>\n",
       "      <th>2021-12-28</th>\n",
       "      <td>4807.020020</td>\n",
       "      <td>4780.040039</td>\n",
       "      <td>4795.490234</td>\n",
       "      <td>4786.350098</td>\n",
       "      <td>2217050000</td>\n",
       "      <td>4786.350098</td>\n",
       "    </tr>\n",
       "    <tr>\n",
       "      <th>2021-12-29</th>\n",
       "      <td>4804.060059</td>\n",
       "      <td>4778.080078</td>\n",
       "      <td>4788.640137</td>\n",
       "      <td>4793.060059</td>\n",
       "      <td>2369370000</td>\n",
       "      <td>4793.060059</td>\n",
       "    </tr>\n",
       "    <tr>\n",
       "      <th>2021-12-30</th>\n",
       "      <td>4808.930176</td>\n",
       "      <td>4775.330078</td>\n",
       "      <td>4794.229980</td>\n",
       "      <td>4778.729980</td>\n",
       "      <td>2390990000</td>\n",
       "      <td>4778.729980</td>\n",
       "    </tr>\n",
       "    <tr>\n",
       "      <th>2021-12-31</th>\n",
       "      <td>4786.830078</td>\n",
       "      <td>4765.750000</td>\n",
       "      <td>4775.209961</td>\n",
       "      <td>4766.180176</td>\n",
       "      <td>2446190000</td>\n",
       "      <td>4766.180176</td>\n",
       "    </tr>\n",
       "  </tbody>\n",
       "</table>\n",
       "<p>253 rows × 6 columns</p>\n",
       "</div>"
      ],
      "text/plain": [
       "                   High          Low         Open        Close      Volume  \\\n",
       "Date                                                                         \n",
       "2020-12-31  3760.199951  3726.879883  3733.270020  3756.070068  3172510000   \n",
       "2021-01-04  3769.989990  3662.709961  3764.610107  3700.649902  5006680000   \n",
       "2021-01-05  3737.830078  3695.070068  3698.020020  3726.860107  4582620000   \n",
       "2021-01-06  3783.040039  3705.340088  3712.199951  3748.139893  6049970000   \n",
       "2021-01-07  3811.550049  3764.709961  3764.709961  3803.790039  5080870000   \n",
       "...                 ...          ...          ...          ...         ...   \n",
       "2021-12-27  4791.490234  4733.990234  4733.990234  4791.189941  2264120000   \n",
       "2021-12-28  4807.020020  4780.040039  4795.490234  4786.350098  2217050000   \n",
       "2021-12-29  4804.060059  4778.080078  4788.640137  4793.060059  2369370000   \n",
       "2021-12-30  4808.930176  4775.330078  4794.229980  4778.729980  2390990000   \n",
       "2021-12-31  4786.830078  4765.750000  4775.209961  4766.180176  2446190000   \n",
       "\n",
       "              Adj Close  \n",
       "Date                     \n",
       "2020-12-31  3756.070068  \n",
       "2021-01-04  3700.649902  \n",
       "2021-01-05  3726.860107  \n",
       "2021-01-06  3748.139893  \n",
       "2021-01-07  3803.790039  \n",
       "...                 ...  \n",
       "2021-12-27  4791.189941  \n",
       "2021-12-28  4786.350098  \n",
       "2021-12-29  4793.060059  \n",
       "2021-12-30  4778.729980  \n",
       "2021-12-31  4766.180176  \n",
       "\n",
       "[253 rows x 6 columns]"
      ]
     },
     "execution_count": 8,
     "metadata": {},
     "output_type": "execute_result"
    }
   ],
   "source": [
    "df2"
   ]
  },
  {
   "cell_type": "code",
   "execution_count": 9,
   "metadata": {},
   "outputs": [],
   "source": [
    "from sklearn.preprocessing import StandardScaler\n",
    "scaler = StandardScaler()"
   ]
  },
  {
   "cell_type": "code",
   "execution_count": 10,
   "metadata": {},
   "outputs": [
    {
     "data": {
      "text/plain": [
       "DatetimeIndex(['2020-12-31', '2021-01-04', '2021-01-05', '2021-01-06',\n",
       "               '2021-01-07', '2021-01-08', '2021-01-11', '2021-01-12',\n",
       "               '2021-01-13', '2021-01-14',\n",
       "               ...\n",
       "               '2021-12-17', '2021-12-20', '2021-12-21', '2021-12-22',\n",
       "               '2021-12-23', '2021-12-27', '2021-12-28', '2021-12-29',\n",
       "               '2021-12-30', '2021-12-31'],\n",
       "              dtype='datetime64[ns]', name='Date', length=253, freq=None)"
      ]
     },
     "execution_count": 10,
     "metadata": {},
     "output_type": "execute_result"
    }
   ],
   "source": [
    "df.index"
   ]
  },
  {
   "cell_type": "code",
   "execution_count": 12,
   "metadata": {},
   "outputs": [
    {
     "data": {
      "image/png": "[encoded data removed]",
      "text/plain": [
       "<Figure size 1080x432 with 1 Axes>"
      ]
     },
     "metadata": {
      "needs_background": "light"
     },
     "output_type": "display_data"
    }
   ],
   "source": [
    "# Plotting the scaled returns\n",
    "plt.figure(figsize=(15,6))\n",
    "plt.xticks(ticks=[])\n",
    "plt.plot(scaler.fit_transform(df[['Adj Close']]),'r',label='Apple',)\n",
    "plt.plot(scaler.fit_transform(df2[['Adj Close']]),'b',label='S&P 500')\n",
    "plt.legend(loc=\"upper left\",fontsize='x-large')\n",
    "plt.xlabel(\"Date\")\n",
    "plt.ylabel(\"Stocks Scaled\")\n",
    "plt.title(\"S&P vs Apple (scaled)\")\n",
    "plt.show()"
   ]
  },
  {
   "cell_type": "code",
   "execution_count": 13,
   "metadata": {},
   "outputs": [
    {
     "data": {
      "image/png": "[encoded data removed]",
      "text/plain": [
       "<Figure size 1080x432 with 1 Axes>"
      ]
     },
     "metadata": {},
     "output_type": "display_data"
    }
   ],
   "source": [
    "# Apple daily closing prices\n",
    "plt.style.use('ggplot')\n",
    "df['Adj Close'].plot(figsize=(15,6),title='APPLE',grid=True, xlabel='Date',rot='horizontal', ylabel='Adj Close',style='r')\n",
    "plt.show()"
   ]
  },
  {
   "cell_type": "code",
   "execution_count": 14,
   "metadata": {},
   "outputs": [
    {
     "data": {
      "image/png": "[encoded data removed]",
      "text/plain": [
       "<Figure size 1080x432 with 1 Axes>"
      ]
     },
     "metadata": {},
     "output_type": "display_data"
    }
   ],
   "source": [
    "df2['Adj Close'].plot(figsize=(15,6),title='S&P 500',grid=True, xlabel='Date',rot='horizontal', ylabel='Adj Close',style=['b'])\n",
    "plt.show()"
   ]
  },
  {
   "cell_type": "code",
   "execution_count": 29,
   "metadata": {},
   "outputs": [],
   "source": [
    "# Plot cummulative returns\n",
    "df['Cummulative_Returns(%)'] = ((df['Adj Close']-df['Adj Close'][0])/df['Adj Close'][0])*100\n",
    "df2['Cummulative_Returns(%)'] = ((df2['Adj Close']-df2['Adj Close'][0])/df2['Adj Close'][0])*100"
   ]
  },
  {
   "cell_type": "code",
   "execution_count": 30,
   "metadata": {},
   "outputs": [
    {
     "data": {
      "text/html": [
       "<div>\n",
       "<style scoped>\n",
       "    .dataframe tbody tr th:only-of-type {\n",
       "        vertical-align: middle;\n",
       "    }\n",
       "\n",
       "    .dataframe tbody tr th {\n",
       "        vertical-align: top;\n",
       "    }\n",
       "\n",
       "    .dataframe thead th {\n",
       "        text-align: right;\n",
       "    }\n",
       "</style>\n",
       "<table border=\"1\" class=\"dataframe\">\n",
       "  <thead>\n",
       "    <tr style=\"text-align: right;\">\n",
       "      <th></th>\n",
       "      <th>High</th>\n",
       "      <th>Low</th>\n",
       "      <th>Open</th>\n",
       "      <th>Close</th>\n",
       "      <th>Volume</th>\n",
       "      <th>Adj Close</th>\n",
       "      <th>Cummulative_Returns</th>\n",
       "      <th>Cummulative_Returns(%)</th>\n",
       "    </tr>\n",
       "    <tr>\n",
       "      <th>Date</th>\n",
       "      <th></th>\n",
       "      <th></th>\n",
       "      <th></th>\n",
       "      <th></th>\n",
       "      <th></th>\n",
       "      <th></th>\n",
       "      <th></th>\n",
       "      <th></th>\n",
       "    </tr>\n",
       "  </thead>\n",
       "  <tbody>\n",
       "    <tr>\n",
       "      <th>2020-12-31</th>\n",
       "      <td>134.740005</td>\n",
       "      <td>131.720001</td>\n",
       "      <td>134.080002</td>\n",
       "      <td>132.690002</td>\n",
       "      <td>99116600.0</td>\n",
       "      <td>131.515976</td>\n",
       "      <td>0.000000</td>\n",
       "      <td>0.000000</td>\n",
       "    </tr>\n",
       "    <tr>\n",
       "      <th>2021-01-04</th>\n",
       "      <td>133.610001</td>\n",
       "      <td>126.760002</td>\n",
       "      <td>133.520004</td>\n",
       "      <td>129.410004</td>\n",
       "      <td>143301900.0</td>\n",
       "      <td>128.264984</td>\n",
       "      <td>-0.024719</td>\n",
       "      <td>-2.471937</td>\n",
       "    </tr>\n",
       "    <tr>\n",
       "      <th>2021-01-05</th>\n",
       "      <td>131.740005</td>\n",
       "      <td>128.429993</td>\n",
       "      <td>128.889999</td>\n",
       "      <td>131.009995</td>\n",
       "      <td>97664900.0</td>\n",
       "      <td>129.850830</td>\n",
       "      <td>-0.012661</td>\n",
       "      <td>-1.266117</td>\n",
       "    </tr>\n",
       "    <tr>\n",
       "      <th>2021-01-06</th>\n",
       "      <td>131.050003</td>\n",
       "      <td>126.379997</td>\n",
       "      <td>127.720001</td>\n",
       "      <td>126.599998</td>\n",
       "      <td>155088000.0</td>\n",
       "      <td>125.479851</td>\n",
       "      <td>-0.045897</td>\n",
       "      <td>-4.589652</td>\n",
       "    </tr>\n",
       "    <tr>\n",
       "      <th>2021-01-07</th>\n",
       "      <td>131.630005</td>\n",
       "      <td>127.860001</td>\n",
       "      <td>128.360001</td>\n",
       "      <td>130.919998</td>\n",
       "      <td>109578200.0</td>\n",
       "      <td>129.761642</td>\n",
       "      <td>-0.013339</td>\n",
       "      <td>-1.333932</td>\n",
       "    </tr>\n",
       "    <tr>\n",
       "      <th>...</th>\n",
       "      <td>...</td>\n",
       "      <td>...</td>\n",
       "      <td>...</td>\n",
       "      <td>...</td>\n",
       "      <td>...</td>\n",
       "      <td>...</td>\n",
       "      <td>...</td>\n",
       "      <td>...</td>\n",
       "    </tr>\n",
       "    <tr>\n",
       "      <th>2021-12-27</th>\n",
       "      <td>180.419998</td>\n",
       "      <td>177.070007</td>\n",
       "      <td>177.089996</td>\n",
       "      <td>180.330002</td>\n",
       "      <td>74919600.0</td>\n",
       "      <td>179.836319</td>\n",
       "      <td>0.367410</td>\n",
       "      <td>36.741044</td>\n",
       "    </tr>\n",
       "    <tr>\n",
       "      <th>2021-12-28</th>\n",
       "      <td>181.330002</td>\n",
       "      <td>178.529999</td>\n",
       "      <td>180.160004</td>\n",
       "      <td>179.289993</td>\n",
       "      <td>79144300.0</td>\n",
       "      <td>178.799164</td>\n",
       "      <td>0.359524</td>\n",
       "      <td>35.952429</td>\n",
       "    </tr>\n",
       "    <tr>\n",
       "      <th>2021-12-29</th>\n",
       "      <td>180.630005</td>\n",
       "      <td>178.139999</td>\n",
       "      <td>179.330002</td>\n",
       "      <td>179.380005</td>\n",
       "      <td>62348900.0</td>\n",
       "      <td>178.888916</td>\n",
       "      <td>0.360207</td>\n",
       "      <td>36.020673</td>\n",
       "    </tr>\n",
       "    <tr>\n",
       "      <th>2021-12-30</th>\n",
       "      <td>180.570007</td>\n",
       "      <td>178.089996</td>\n",
       "      <td>179.470001</td>\n",
       "      <td>178.199997</td>\n",
       "      <td>59773000.0</td>\n",
       "      <td>177.712143</td>\n",
       "      <td>0.351259</td>\n",
       "      <td>35.125898</td>\n",
       "    </tr>\n",
       "    <tr>\n",
       "      <th>2021-12-31</th>\n",
       "      <td>179.229996</td>\n",
       "      <td>177.259995</td>\n",
       "      <td>178.089996</td>\n",
       "      <td>177.570007</td>\n",
       "      <td>64062300.0</td>\n",
       "      <td>177.083878</td>\n",
       "      <td>0.346482</td>\n",
       "      <td>34.648187</td>\n",
       "    </tr>\n",
       "  </tbody>\n",
       "</table>\n",
       "<p>253 rows × 8 columns</p>\n",
       "</div>"
      ],
      "text/plain": [
       "                  High         Low        Open       Close       Volume  \\\n",
       "Date                                                                      \n",
       "2020-12-31  134.740005  131.720001  134.080002  132.690002   99116600.0   \n",
       "2021-01-04  133.610001  126.760002  133.520004  129.410004  143301900.0   \n",
       "2021-01-05  131.740005  128.429993  128.889999  131.009995   97664900.0   \n",
       "2021-01-06  131.050003  126.379997  127.720001  126.599998  155088000.0   \n",
       "2021-01-07  131.630005  127.860001  128.360001  130.919998  109578200.0   \n",
       "...                ...         ...         ...         ...          ...   \n",
       "2021-12-27  180.419998  177.070007  177.089996  180.330002   74919600.0   \n",
       "2021-12-28  181.330002  178.529999  180.160004  179.289993   79144300.0   \n",
       "2021-12-29  180.630005  178.139999  179.330002  179.380005   62348900.0   \n",
       "2021-12-30  180.570007  178.089996  179.470001  178.199997   59773000.0   \n",
       "2021-12-31  179.229996  177.259995  178.089996  177.570007   64062300.0   \n",
       "\n",
       "             Adj Close  Cummulative_Returns  Cummulative_Returns(%)  \n",
       "Date                                                                 \n",
       "2020-12-31  131.515976             0.000000                0.000000  \n",
       "2021-01-04  128.264984            -0.024719               -2.471937  \n",
       "2021-01-05  129.850830            -0.012661               -1.266117  \n",
       "2021-01-06  125.479851            -0.045897               -4.589652  \n",
       "2021-01-07  129.761642            -0.013339               -1.333932  \n",
       "...                ...                  ...                     ...  \n",
       "2021-12-27  179.836319             0.367410               36.741044  \n",
       "2021-12-28  178.799164             0.359524               35.952429  \n",
       "2021-12-29  178.888916             0.360207               36.020673  \n",
       "2021-12-30  177.712143             0.351259               35.125898  \n",
       "2021-12-31  177.083878             0.346482               34.648187  \n",
       "\n",
       "[253 rows x 8 columns]"
      ]
     },
     "execution_count": 30,
     "metadata": {},
     "output_type": "execute_result"
    }
   ],
   "source": [
    "df"
   ]
  },
  {
   "cell_type": "code",
   "execution_count": 39,
   "metadata": {},
   "outputs": [
    {
     "data": {
      "image/png": "[encoded data removed]",
      "text/plain": [
       "<Figure size 1080x432 with 1 Axes>"
      ]
     },
     "metadata": {},
     "output_type": "display_data"
    }
   ],
   "source": [
    "plt.figure(figsize=(15,6))\n",
    "plt.plot(df['Cummulative_Returns(%)'],'r')\n",
    "plt.title(\"Cummulative returns on Apple\")\n",
    "plt.ylabel('Cummulative Returns(%)')\n",
    "plt.xlabel('Date')\n",
    "plt.show()"
   ]
  },
  {
   "cell_type": "code",
   "execution_count": 42,
   "metadata": {},
   "outputs": [
    {
     "data": {
      "image/png": "[encoded data removed]",
      "text/plain": [
       "<Figure size 1080x432 with 1 Axes>"
      ]
     },
     "metadata": {},
     "output_type": "display_data"
    }
   ],
   "source": [
    "plt.figure(figsize=(15,6))\n",
    "plt.plot(df2['Cummulative_Returns(%)'],'b')\n",
    "plt.title(\"Cummulative returns on S&P 500\")\n",
    "plt.ylabel('Cummulative Returns(%)')\n",
    "plt.xlabel('Date')\n",
    "plt.show()"
   ]
  },
  {
   "cell_type": "markdown",
   "metadata": {},
   "source": [
    "## Calculating the returns on stocks"
   ]
  },
  {
   "cell_type": "markdown",
   "metadata": {},
   "source": [
    "##### Importing all the libraries.\n",
    "##### Use DateTime library to take start and end time of stock (first try with 1jan’21 to 1 Jan’22)\n",
    "##### Use web.Datareader library to export Yahoo Finance as a data source. \n",
    "##### Take the stock for comparison of market return to be nifty(^NSEI) (beta=1).\n",
    "##### Take the other stock on basis of your choice. (say, Bajaj FinServ)\n",
    "##### Try plotting the absolute value of stock price of both stock in same graph.\n",
    "##### Now plot cumulative return. (In simple word, assume you invested Rs.1 in both stock, so what would be its value on any day). Plot and visualize.\n",
    "##### Now, add another column for daily returns. (Curr-Prev/prev).\n",
    "##### Now, plot the scatter graph of daily return of both the stocks.\n",
    "#####  Use Linear Regression to find the value of alpha, beta, rvalue, pvalue, stderr. (alpha = intercept, beta=slope).\n",
    "##### Now find the price at any time for the stock you choose before (say, 8June’22)\n",
    "##### Now, using CAPM formula, find the value of theoretical return of that asset.\n",
    "##### Now, you get expected price and original price. Find the error in this."
   ]
  },
  {
   "cell_type": "code",
   "execution_count": 43,
   "metadata": {},
   "outputs": [],
   "source": [
    "df['Shifted_Adj_Close'] = df['Adj Close'].shift(1)\n",
    "df2['Shifted_Adj_Close'] = df2['Adj Close'].shift(1)"
   ]
  },
  {
   "cell_type": "code",
   "execution_count": 44,
   "metadata": {},
   "outputs": [],
   "source": [
    "df['Returns(%)'] = (df['Shifted_Adj_Close']-df['Adj Close'])/(df['Shifted_Adj_Close'])*100"
   ]
  },
  {
   "cell_type": "code",
   "execution_count": 45,
   "metadata": {},
   "outputs": [],
   "source": [
    "df2['Returns(%)'] = (df2['Shifted_Adj_Close']-df2['Adj Close'])/(df2['Shifted_Adj_Close'])*100"
   ]
  },
  {
   "cell_type": "code",
   "execution_count": 46,
   "metadata": {},
   "outputs": [],
   "source": [
    "df = df[1:]"
   ]
  },
  {
   "cell_type": "code",
   "execution_count": 47,
   "metadata": {},
   "outputs": [],
   "source": [
    "df2 = df2[1:]"
   ]
  },
  {
   "cell_type": "code",
   "execution_count": 48,
   "metadata": {},
   "outputs": [
    {
     "data": {
      "text/html": [
       "<div>\n",
       "<style scoped>\n",
       "    .dataframe tbody tr th:only-of-type {\n",
       "        vertical-align: middle;\n",
       "    }\n",
       "\n",
       "    .dataframe tbody tr th {\n",
       "        vertical-align: top;\n",
       "    }\n",
       "\n",
       "    .dataframe thead th {\n",
       "        text-align: right;\n",
       "    }\n",
       "</style>\n",
       "<table border=\"1\" class=\"dataframe\">\n",
       "  <thead>\n",
       "    <tr style=\"text-align: right;\">\n",
       "      <th></th>\n",
       "      <th>High</th>\n",
       "      <th>Low</th>\n",
       "      <th>Open</th>\n",
       "      <th>Close</th>\n",
       "      <th>Volume</th>\n",
       "      <th>Adj Close</th>\n",
       "      <th>Cummulative_Returns</th>\n",
       "      <th>Cummulative_Returns(%)</th>\n",
       "      <th>Shifted_Adj_Close</th>\n",
       "      <th>Returns(%)</th>\n",
       "    </tr>\n",
       "    <tr>\n",
       "      <th>Date</th>\n",
       "      <th></th>\n",
       "      <th></th>\n",
       "      <th></th>\n",
       "      <th></th>\n",
       "      <th></th>\n",
       "      <th></th>\n",
       "      <th></th>\n",
       "      <th></th>\n",
       "      <th></th>\n",
       "      <th></th>\n",
       "    </tr>\n",
       "  </thead>\n",
       "  <tbody>\n",
       "    <tr>\n",
       "      <th>2021-01-04</th>\n",
       "      <td>133.610001</td>\n",
       "      <td>126.760002</td>\n",
       "      <td>133.520004</td>\n",
       "      <td>129.410004</td>\n",
       "      <td>143301900.0</td>\n",
       "      <td>128.264984</td>\n",
       "      <td>-0.024719</td>\n",
       "      <td>-2.471937</td>\n",
       "      <td>131.515976</td>\n",
       "      <td>2.471937</td>\n",
       "    </tr>\n",
       "    <tr>\n",
       "      <th>2021-01-05</th>\n",
       "      <td>131.740005</td>\n",
       "      <td>128.429993</td>\n",
       "      <td>128.889999</td>\n",
       "      <td>131.009995</td>\n",
       "      <td>97664900.0</td>\n",
       "      <td>129.850830</td>\n",
       "      <td>-0.012661</td>\n",
       "      <td>-1.266117</td>\n",
       "      <td>128.264984</td>\n",
       "      <td>-1.236383</td>\n",
       "    </tr>\n",
       "    <tr>\n",
       "      <th>2021-01-06</th>\n",
       "      <td>131.050003</td>\n",
       "      <td>126.379997</td>\n",
       "      <td>127.720001</td>\n",
       "      <td>126.599998</td>\n",
       "      <td>155088000.0</td>\n",
       "      <td>125.479851</td>\n",
       "      <td>-0.045897</td>\n",
       "      <td>-4.589652</td>\n",
       "      <td>129.850830</td>\n",
       "      <td>3.366154</td>\n",
       "    </tr>\n",
       "    <tr>\n",
       "      <th>2021-01-07</th>\n",
       "      <td>131.630005</td>\n",
       "      <td>127.860001</td>\n",
       "      <td>128.360001</td>\n",
       "      <td>130.919998</td>\n",
       "      <td>109578200.0</td>\n",
       "      <td>129.761642</td>\n",
       "      <td>-0.013339</td>\n",
       "      <td>-1.333932</td>\n",
       "      <td>125.479851</td>\n",
       "      <td>-3.412334</td>\n",
       "    </tr>\n",
       "    <tr>\n",
       "      <th>2021-01-08</th>\n",
       "      <td>132.630005</td>\n",
       "      <td>130.229996</td>\n",
       "      <td>132.429993</td>\n",
       "      <td>132.050003</td>\n",
       "      <td>105158200.0</td>\n",
       "      <td>130.881638</td>\n",
       "      <td>-0.004823</td>\n",
       "      <td>-0.482328</td>\n",
       "      <td>129.761642</td>\n",
       "      <td>-0.863117</td>\n",
       "    </tr>\n",
       "    <tr>\n",
       "      <th>...</th>\n",
       "      <td>...</td>\n",
       "      <td>...</td>\n",
       "      <td>...</td>\n",
       "      <td>...</td>\n",
       "      <td>...</td>\n",
       "      <td>...</td>\n",
       "      <td>...</td>\n",
       "      <td>...</td>\n",
       "      <td>...</td>\n",
       "      <td>...</td>\n",
       "    </tr>\n",
       "    <tr>\n",
       "      <th>2021-12-27</th>\n",
       "      <td>180.419998</td>\n",
       "      <td>177.070007</td>\n",
       "      <td>177.089996</td>\n",
       "      <td>180.330002</td>\n",
       "      <td>74919600.0</td>\n",
       "      <td>179.836319</td>\n",
       "      <td>0.367410</td>\n",
       "      <td>36.741044</td>\n",
       "      <td>175.797394</td>\n",
       "      <td>-2.297489</td>\n",
       "    </tr>\n",
       "    <tr>\n",
       "      <th>2021-12-28</th>\n",
       "      <td>181.330002</td>\n",
       "      <td>178.529999</td>\n",
       "      <td>180.160004</td>\n",
       "      <td>179.289993</td>\n",
       "      <td>79144300.0</td>\n",
       "      <td>178.799164</td>\n",
       "      <td>0.359524</td>\n",
       "      <td>35.952429</td>\n",
       "      <td>179.836319</td>\n",
       "      <td>0.576722</td>\n",
       "    </tr>\n",
       "    <tr>\n",
       "      <th>2021-12-29</th>\n",
       "      <td>180.630005</td>\n",
       "      <td>178.139999</td>\n",
       "      <td>179.330002</td>\n",
       "      <td>179.380005</td>\n",
       "      <td>62348900.0</td>\n",
       "      <td>178.888916</td>\n",
       "      <td>0.360207</td>\n",
       "      <td>36.020673</td>\n",
       "      <td>178.799164</td>\n",
       "      <td>-0.050197</td>\n",
       "    </tr>\n",
       "    <tr>\n",
       "      <th>2021-12-30</th>\n",
       "      <td>180.570007</td>\n",
       "      <td>178.089996</td>\n",
       "      <td>179.470001</td>\n",
       "      <td>178.199997</td>\n",
       "      <td>59773000.0</td>\n",
       "      <td>177.712143</td>\n",
       "      <td>0.351259</td>\n",
       "      <td>35.125898</td>\n",
       "      <td>178.888916</td>\n",
       "      <td>0.657823</td>\n",
       "    </tr>\n",
       "    <tr>\n",
       "      <th>2021-12-31</th>\n",
       "      <td>179.229996</td>\n",
       "      <td>177.259995</td>\n",
       "      <td>178.089996</td>\n",
       "      <td>177.570007</td>\n",
       "      <td>64062300.0</td>\n",
       "      <td>177.083878</td>\n",
       "      <td>0.346482</td>\n",
       "      <td>34.648187</td>\n",
       "      <td>177.712143</td>\n",
       "      <td>0.353530</td>\n",
       "    </tr>\n",
       "  </tbody>\n",
       "</table>\n",
       "<p>252 rows × 10 columns</p>\n",
       "</div>"
      ],
      "text/plain": [
       "                  High         Low        Open       Close       Volume  \\\n",
       "Date                                                                      \n",
       "2021-01-04  133.610001  126.760002  133.520004  129.410004  143301900.0   \n",
       "2021-01-05  131.740005  128.429993  128.889999  131.009995   97664900.0   \n",
       "2021-01-06  131.050003  126.379997  127.720001  126.599998  155088000.0   \n",
       "2021-01-07  131.630005  127.860001  128.360001  130.919998  109578200.0   \n",
       "2021-01-08  132.630005  130.229996  132.429993  132.050003  105158200.0   \n",
       "...                ...         ...         ...         ...          ...   \n",
       "2021-12-27  180.419998  177.070007  177.089996  180.330002   74919600.0   \n",
       "2021-12-28  181.330002  178.529999  180.160004  179.289993   79144300.0   \n",
       "2021-12-29  180.630005  178.139999  179.330002  179.380005   62348900.0   \n",
       "2021-12-30  180.570007  178.089996  179.470001  178.199997   59773000.0   \n",
       "2021-12-31  179.229996  177.259995  178.089996  177.570007   64062300.0   \n",
       "\n",
       "             Adj Close  Cummulative_Returns  Cummulative_Returns(%)  \\\n",
       "Date                                                                  \n",
       "2021-01-04  128.264984            -0.024719               -2.471937   \n",
       "2021-01-05  129.850830            -0.012661               -1.266117   \n",
       "2021-01-06  125.479851            -0.045897               -4.589652   \n",
       "2021-01-07  129.761642            -0.013339               -1.333932   \n",
       "2021-01-08  130.881638            -0.004823               -0.482328   \n",
       "...                ...                  ...                     ...   \n",
       "2021-12-27  179.836319             0.367410               36.741044   \n",
       "2021-12-28  178.799164             0.359524               35.952429   \n",
       "2021-12-29  178.888916             0.360207               36.020673   \n",
       "2021-12-30  177.712143             0.351259               35.125898   \n",
       "2021-12-31  177.083878             0.346482               34.648187   \n",
       "\n",
       "            Shifted_Adj_Close  Returns(%)  \n",
       "Date                                       \n",
       "2021-01-04         131.515976    2.471937  \n",
       "2021-01-05         128.264984   -1.236383  \n",
       "2021-01-06         129.850830    3.366154  \n",
       "2021-01-07         125.479851   -3.412334  \n",
       "2021-01-08         129.761642   -0.863117  \n",
       "...                       ...         ...  \n",
       "2021-12-27         175.797394   -2.297489  \n",
       "2021-12-28         179.836319    0.576722  \n",
       "2021-12-29         178.799164   -0.050197  \n",
       "2021-12-30         178.888916    0.657823  \n",
       "2021-12-31         177.712143    0.353530  \n",
       "\n",
       "[252 rows x 10 columns]"
      ]
     },
     "execution_count": 48,
     "metadata": {},
     "output_type": "execute_result"
    }
   ],
   "source": [
    "df"
   ]
  },
  {
   "cell_type": "markdown",
   "metadata": {},
   "source": [
    "## Estimating the Beta coefficient"
   ]
  },
  {
   "cell_type": "code",
   "execution_count": 49,
   "metadata": {},
   "outputs": [],
   "source": [
    "df3 = pd.merge(df, df2, on = \"Date\", how = \"inner\")"
   ]
  },
  {
   "cell_type": "code",
   "execution_count": 50,
   "metadata": {},
   "outputs": [
    {
     "data": {
      "text/html": [
       "<div>\n",
       "<style scoped>\n",
       "    .dataframe tbody tr th:only-of-type {\n",
       "        vertical-align: middle;\n",
       "    }\n",
       "\n",
       "    .dataframe tbody tr th {\n",
       "        vertical-align: top;\n",
       "    }\n",
       "\n",
       "    .dataframe thead th {\n",
       "        text-align: right;\n",
       "    }\n",
       "</style>\n",
       "<table border=\"1\" class=\"dataframe\">\n",
       "  <thead>\n",
       "    <tr style=\"text-align: right;\">\n",
       "      <th></th>\n",
       "      <th>High_x</th>\n",
       "      <th>Low_x</th>\n",
       "      <th>Open_x</th>\n",
       "      <th>Close_x</th>\n",
       "      <th>Volume_x</th>\n",
       "      <th>Adj Close_x</th>\n",
       "      <th>Cummulative_Returns</th>\n",
       "      <th>Cummulative_Returns(%)_x</th>\n",
       "      <th>Shifted_Adj_Close_x</th>\n",
       "      <th>Returns(%)_x</th>\n",
       "      <th>High_y</th>\n",
       "      <th>Low_y</th>\n",
       "      <th>Open_y</th>\n",
       "      <th>Close_y</th>\n",
       "      <th>Volume_y</th>\n",
       "      <th>Adj Close_y</th>\n",
       "      <th>Cummulative_Returns(%)_y</th>\n",
       "      <th>Shifted_Adj_Close_y</th>\n",
       "      <th>Returns(%)_y</th>\n",
       "    </tr>\n",
       "    <tr>\n",
       "      <th>Date</th>\n",
       "      <th></th>\n",
       "      <th></th>\n",
       "      <th></th>\n",
       "      <th></th>\n",
       "      <th></th>\n",
       "      <th></th>\n",
       "      <th></th>\n",
       "      <th></th>\n",
       "      <th></th>\n",
       "      <th></th>\n",
       "      <th></th>\n",
       "      <th></th>\n",
       "      <th></th>\n",
       "      <th></th>\n",
       "      <th></th>\n",
       "      <th></th>\n",
       "      <th></th>\n",
       "      <th></th>\n",
       "      <th></th>\n",
       "    </tr>\n",
       "  </thead>\n",
       "  <tbody>\n",
       "    <tr>\n",
       "      <th>2021-01-04</th>\n",
       "      <td>133.610001</td>\n",
       "      <td>126.760002</td>\n",
       "      <td>133.520004</td>\n",
       "      <td>129.410004</td>\n",
       "      <td>143301900.0</td>\n",
       "      <td>128.264984</td>\n",
       "      <td>-0.024719</td>\n",
       "      <td>-2.471937</td>\n",
       "      <td>131.515976</td>\n",
       "      <td>2.471937</td>\n",
       "      <td>3769.989990</td>\n",
       "      <td>3662.709961</td>\n",
       "      <td>3764.610107</td>\n",
       "      <td>3700.649902</td>\n",
       "      <td>5006680000</td>\n",
       "      <td>3700.649902</td>\n",
       "      <td>-1.475483</td>\n",
       "      <td>3756.070068</td>\n",
       "      <td>1.475483</td>\n",
       "    </tr>\n",
       "    <tr>\n",
       "      <th>2021-01-05</th>\n",
       "      <td>131.740005</td>\n",
       "      <td>128.429993</td>\n",
       "      <td>128.889999</td>\n",
       "      <td>131.009995</td>\n",
       "      <td>97664900.0</td>\n",
       "      <td>129.850830</td>\n",
       "      <td>-0.012661</td>\n",
       "      <td>-1.266117</td>\n",
       "      <td>128.264984</td>\n",
       "      <td>-1.236383</td>\n",
       "      <td>3737.830078</td>\n",
       "      <td>3695.070068</td>\n",
       "      <td>3698.020020</td>\n",
       "      <td>3726.860107</td>\n",
       "      <td>4582620000</td>\n",
       "      <td>3726.860107</td>\n",
       "      <td>-0.777673</td>\n",
       "      <td>3700.649902</td>\n",
       "      <td>-0.708260</td>\n",
       "    </tr>\n",
       "    <tr>\n",
       "      <th>2021-01-06</th>\n",
       "      <td>131.050003</td>\n",
       "      <td>126.379997</td>\n",
       "      <td>127.720001</td>\n",
       "      <td>126.599998</td>\n",
       "      <td>155088000.0</td>\n",
       "      <td>125.479851</td>\n",
       "      <td>-0.045897</td>\n",
       "      <td>-4.589652</td>\n",
       "      <td>129.850830</td>\n",
       "      <td>3.366154</td>\n",
       "      <td>3783.040039</td>\n",
       "      <td>3705.340088</td>\n",
       "      <td>3712.199951</td>\n",
       "      <td>3748.139893</td>\n",
       "      <td>6049970000</td>\n",
       "      <td>3748.139893</td>\n",
       "      <td>-0.211130</td>\n",
       "      <td>3726.860107</td>\n",
       "      <td>-0.570984</td>\n",
       "    </tr>\n",
       "    <tr>\n",
       "      <th>2021-01-07</th>\n",
       "      <td>131.630005</td>\n",
       "      <td>127.860001</td>\n",
       "      <td>128.360001</td>\n",
       "      <td>130.919998</td>\n",
       "      <td>109578200.0</td>\n",
       "      <td>129.761642</td>\n",
       "      <td>-0.013339</td>\n",
       "      <td>-1.333932</td>\n",
       "      <td>125.479851</td>\n",
       "      <td>-3.412334</td>\n",
       "      <td>3811.550049</td>\n",
       "      <td>3764.709961</td>\n",
       "      <td>3764.709961</td>\n",
       "      <td>3803.790039</td>\n",
       "      <td>5080870000</td>\n",
       "      <td>3803.790039</td>\n",
       "      <td>1.270476</td>\n",
       "      <td>3748.139893</td>\n",
       "      <td>-1.484740</td>\n",
       "    </tr>\n",
       "    <tr>\n",
       "      <th>2021-01-08</th>\n",
       "      <td>132.630005</td>\n",
       "      <td>130.229996</td>\n",
       "      <td>132.429993</td>\n",
       "      <td>132.050003</td>\n",
       "      <td>105158200.0</td>\n",
       "      <td>130.881638</td>\n",
       "      <td>-0.004823</td>\n",
       "      <td>-0.482328</td>\n",
       "      <td>129.761642</td>\n",
       "      <td>-0.863117</td>\n",
       "      <td>3826.689941</td>\n",
       "      <td>3783.600098</td>\n",
       "      <td>3815.050049</td>\n",
       "      <td>3824.679932</td>\n",
       "      <td>4764180000</td>\n",
       "      <td>3824.679932</td>\n",
       "      <td>1.826640</td>\n",
       "      <td>3803.790039</td>\n",
       "      <td>-0.549186</td>\n",
       "    </tr>\n",
       "    <tr>\n",
       "      <th>...</th>\n",
       "      <td>...</td>\n",
       "      <td>...</td>\n",
       "      <td>...</td>\n",
       "      <td>...</td>\n",
       "      <td>...</td>\n",
       "      <td>...</td>\n",
       "      <td>...</td>\n",
       "      <td>...</td>\n",
       "      <td>...</td>\n",
       "      <td>...</td>\n",
       "      <td>...</td>\n",
       "      <td>...</td>\n",
       "      <td>...</td>\n",
       "      <td>...</td>\n",
       "      <td>...</td>\n",
       "      <td>...</td>\n",
       "      <td>...</td>\n",
       "      <td>...</td>\n",
       "      <td>...</td>\n",
       "    </tr>\n",
       "    <tr>\n",
       "      <th>2021-12-27</th>\n",
       "      <td>180.419998</td>\n",
       "      <td>177.070007</td>\n",
       "      <td>177.089996</td>\n",
       "      <td>180.330002</td>\n",
       "      <td>74919600.0</td>\n",
       "      <td>179.836319</td>\n",
       "      <td>0.367410</td>\n",
       "      <td>36.741044</td>\n",
       "      <td>175.797394</td>\n",
       "      <td>-2.297489</td>\n",
       "      <td>4791.490234</td>\n",
       "      <td>4733.990234</td>\n",
       "      <td>4733.990234</td>\n",
       "      <td>4791.189941</td>\n",
       "      <td>2264120000</td>\n",
       "      <td>4791.189941</td>\n",
       "      <td>27.558588</td>\n",
       "      <td>4725.790039</td>\n",
       "      <td>-1.383894</td>\n",
       "    </tr>\n",
       "    <tr>\n",
       "      <th>2021-12-28</th>\n",
       "      <td>181.330002</td>\n",
       "      <td>178.529999</td>\n",
       "      <td>180.160004</td>\n",
       "      <td>179.289993</td>\n",
       "      <td>79144300.0</td>\n",
       "      <td>178.799164</td>\n",
       "      <td>0.359524</td>\n",
       "      <td>35.952429</td>\n",
       "      <td>179.836319</td>\n",
       "      <td>0.576722</td>\n",
       "      <td>4807.020020</td>\n",
       "      <td>4780.040039</td>\n",
       "      <td>4795.490234</td>\n",
       "      <td>4786.350098</td>\n",
       "      <td>2217050000</td>\n",
       "      <td>4786.350098</td>\n",
       "      <td>27.429734</td>\n",
       "      <td>4791.189941</td>\n",
       "      <td>0.101015</td>\n",
       "    </tr>\n",
       "    <tr>\n",
       "      <th>2021-12-29</th>\n",
       "      <td>180.630005</td>\n",
       "      <td>178.139999</td>\n",
       "      <td>179.330002</td>\n",
       "      <td>179.380005</td>\n",
       "      <td>62348900.0</td>\n",
       "      <td>178.888916</td>\n",
       "      <td>0.360207</td>\n",
       "      <td>36.020673</td>\n",
       "      <td>178.799164</td>\n",
       "      <td>-0.050197</td>\n",
       "      <td>4804.060059</td>\n",
       "      <td>4778.080078</td>\n",
       "      <td>4788.640137</td>\n",
       "      <td>4793.060059</td>\n",
       "      <td>2369370000</td>\n",
       "      <td>4793.060059</td>\n",
       "      <td>27.608377</td>\n",
       "      <td>4786.350098</td>\n",
       "      <td>-0.140190</td>\n",
       "    </tr>\n",
       "    <tr>\n",
       "      <th>2021-12-30</th>\n",
       "      <td>180.570007</td>\n",
       "      <td>178.089996</td>\n",
       "      <td>179.470001</td>\n",
       "      <td>178.199997</td>\n",
       "      <td>59773000.0</td>\n",
       "      <td>177.712143</td>\n",
       "      <td>0.351259</td>\n",
       "      <td>35.125898</td>\n",
       "      <td>178.888916</td>\n",
       "      <td>0.657823</td>\n",
       "      <td>4808.930176</td>\n",
       "      <td>4775.330078</td>\n",
       "      <td>4794.229980</td>\n",
       "      <td>4778.729980</td>\n",
       "      <td>2390990000</td>\n",
       "      <td>4778.729980</td>\n",
       "      <td>27.226859</td>\n",
       "      <td>4793.060059</td>\n",
       "      <td>0.298976</td>\n",
       "    </tr>\n",
       "    <tr>\n",
       "      <th>2021-12-31</th>\n",
       "      <td>179.229996</td>\n",
       "      <td>177.259995</td>\n",
       "      <td>178.089996</td>\n",
       "      <td>177.570007</td>\n",
       "      <td>64062300.0</td>\n",
       "      <td>177.083878</td>\n",
       "      <td>0.346482</td>\n",
       "      <td>34.648187</td>\n",
       "      <td>177.712143</td>\n",
       "      <td>0.353530</td>\n",
       "      <td>4786.830078</td>\n",
       "      <td>4765.750000</td>\n",
       "      <td>4775.209961</td>\n",
       "      <td>4766.180176</td>\n",
       "      <td>2446190000</td>\n",
       "      <td>4766.180176</td>\n",
       "      <td>26.892739</td>\n",
       "      <td>4778.729980</td>\n",
       "      <td>0.262618</td>\n",
       "    </tr>\n",
       "  </tbody>\n",
       "</table>\n",
       "<p>252 rows × 19 columns</p>\n",
       "</div>"
      ],
      "text/plain": [
       "                High_x       Low_x      Open_x     Close_x     Volume_x  \\\n",
       "Date                                                                      \n",
       "2021-01-04  133.610001  126.760002  133.520004  129.410004  143301900.0   \n",
       "2021-01-05  131.740005  128.429993  128.889999  131.009995   97664900.0   \n",
       "2021-01-06  131.050003  126.379997  127.720001  126.599998  155088000.0   \n",
       "2021-01-07  131.630005  127.860001  128.360001  130.919998  109578200.0   \n",
       "2021-01-08  132.630005  130.229996  132.429993  132.050003  105158200.0   \n",
       "...                ...         ...         ...         ...          ...   \n",
       "2021-12-27  180.419998  177.070007  177.089996  180.330002   74919600.0   \n",
       "2021-12-28  181.330002  178.529999  180.160004  179.289993   79144300.0   \n",
       "2021-12-29  180.630005  178.139999  179.330002  179.380005   62348900.0   \n",
       "2021-12-30  180.570007  178.089996  179.470001  178.199997   59773000.0   \n",
       "2021-12-31  179.229996  177.259995  178.089996  177.570007   64062300.0   \n",
       "\n",
       "            Adj Close_x  Cummulative_Returns  Cummulative_Returns(%)_x  \\\n",
       "Date                                                                     \n",
       "2021-01-04   128.264984            -0.024719                 -2.471937   \n",
       "2021-01-05   129.850830            -0.012661                 -1.266117   \n",
       "2021-01-06   125.479851            -0.045897                 -4.589652   \n",
       "2021-01-07   129.761642            -0.013339                 -1.333932   \n",
       "2021-01-08   130.881638            -0.004823                 -0.482328   \n",
       "...                 ...                  ...                       ...   \n",
       "2021-12-27   179.836319             0.367410                 36.741044   \n",
       "2021-12-28   178.799164             0.359524                 35.952429   \n",
       "2021-12-29   178.888916             0.360207                 36.020673   \n",
       "2021-12-30   177.712143             0.351259                 35.125898   \n",
       "2021-12-31   177.083878             0.346482                 34.648187   \n",
       "\n",
       "            Shifted_Adj_Close_x  Returns(%)_x       High_y        Low_y  \\\n",
       "Date                                                                      \n",
       "2021-01-04           131.515976      2.471937  3769.989990  3662.709961   \n",
       "2021-01-05           128.264984     -1.236383  3737.830078  3695.070068   \n",
       "2021-01-06           129.850830      3.366154  3783.040039  3705.340088   \n",
       "2021-01-07           125.479851     -3.412334  3811.550049  3764.709961   \n",
       "2021-01-08           129.761642     -0.863117  3826.689941  3783.600098   \n",
       "...                         ...           ...          ...          ...   \n",
       "2021-12-27           175.797394     -2.297489  4791.490234  4733.990234   \n",
       "2021-12-28           179.836319      0.576722  4807.020020  4780.040039   \n",
       "2021-12-29           178.799164     -0.050197  4804.060059  4778.080078   \n",
       "2021-12-30           178.888916      0.657823  4808.930176  4775.330078   \n",
       "2021-12-31           177.712143      0.353530  4786.830078  4765.750000   \n",
       "\n",
       "                 Open_y      Close_y    Volume_y  Adj Close_y  \\\n",
       "Date                                                            \n",
       "2021-01-04  3764.610107  3700.649902  5006680000  3700.649902   \n",
       "2021-01-05  3698.020020  3726.860107  4582620000  3726.860107   \n",
       "2021-01-06  3712.199951  3748.139893  6049970000  3748.139893   \n",
       "2021-01-07  3764.709961  3803.790039  5080870000  3803.790039   \n",
       "2021-01-08  3815.050049  3824.679932  4764180000  3824.679932   \n",
       "...                 ...          ...         ...          ...   \n",
       "2021-12-27  4733.990234  4791.189941  2264120000  4791.189941   \n",
       "2021-12-28  4795.490234  4786.350098  2217050000  4786.350098   \n",
       "2021-12-29  4788.640137  4793.060059  2369370000  4793.060059   \n",
       "2021-12-30  4794.229980  4778.729980  2390990000  4778.729980   \n",
       "2021-12-31  4775.209961  4766.180176  2446190000  4766.180176   \n",
       "\n",
       "            Cummulative_Returns(%)_y  Shifted_Adj_Close_y  Returns(%)_y  \n",
       "Date                                                                     \n",
       "2021-01-04                 -1.475483          3756.070068      1.475483  \n",
       "2021-01-05                 -0.777673          3700.649902     -0.708260  \n",
       "2021-01-06                 -0.211130          3726.860107     -0.570984  \n",
       "2021-01-07                  1.270476          3748.139893     -1.484740  \n",
       "2021-01-08                  1.826640          3803.790039     -0.549186  \n",
       "...                              ...                  ...           ...  \n",
       "2021-12-27                 27.558588          4725.790039     -1.383894  \n",
       "2021-12-28                 27.429734          4791.189941      0.101015  \n",
       "2021-12-29                 27.608377          4786.350098     -0.140190  \n",
       "2021-12-30                 27.226859          4793.060059      0.298976  \n",
       "2021-12-31                 26.892739          4778.729980      0.262618  \n",
       "\n",
       "[252 rows x 19 columns]"
      ]
     },
     "execution_count": 50,
     "metadata": {},
     "output_type": "execute_result"
    }
   ],
   "source": [
    "df3"
   ]
  },
  {
   "cell_type": "code",
   "execution_count": 51,
   "metadata": {},
   "outputs": [],
   "source": [
    "df3 = df3[['Returns(%)_x','Returns(%)_y']]"
   ]
  },
  {
   "cell_type": "markdown",
   "metadata": {},
   "source": [
    "### Linear Regression"
   ]
  },
  {
   "cell_type": "code",
   "execution_count": 76,
   "metadata": {},
   "outputs": [
    {
     "data": {
      "text/plain": [
       "LinearRegression()"
      ]
     },
     "execution_count": 76,
     "metadata": {},
     "output_type": "execute_result"
    }
   ],
   "source": [
    "X = df3[['Returns(%)_x']]\n",
    "y = df3['Returns(%)_y']\n",
    "reg = LinearRegression()\n",
    "reg.fit(X,y)"
   ]
  },
  {
   "cell_type": "code",
   "execution_count": 96,
   "metadata": {},
   "outputs": [
    {
     "data": {
      "text/html": [
       "<table class=\"simpletable\">\n",
       "<caption>OLS Regression Results</caption>\n",
       "<tr>\n",
       "  <th>Dep. Variable:</th>      <td>Returns(%)_y</td>   <th>  R-squared:         </th> <td>   0.471</td>\n",
       "</tr>\n",
       "<tr>\n",
       "  <th>Model:</th>                   <td>OLS</td>       <th>  Adj. R-squared:    </th> <td>   0.468</td>\n",
       "</tr>\n",
       "<tr>\n",
       "  <th>Method:</th>             <td>Least Squares</td>  <th>  F-statistic:       </th> <td>   222.2</td>\n",
       "</tr>\n",
       "<tr>\n",
       "  <th>Date:</th>             <td>Thu, 09 Jun 2022</td> <th>  Prob (F-statistic):</th> <td>2.21e-36</td>\n",
       "</tr>\n",
       "<tr>\n",
       "  <th>Time:</th>                 <td>17:58:07</td>     <th>  Log-Likelihood:    </th> <td> -228.54</td>\n",
       "</tr>\n",
       "<tr>\n",
       "  <th>No. Observations:</th>      <td>   252</td>      <th>  AIC:               </th> <td>   461.1</td>\n",
       "</tr>\n",
       "<tr>\n",
       "  <th>Df Residuals:</th>          <td>   250</td>      <th>  BIC:               </th> <td>   468.1</td>\n",
       "</tr>\n",
       "<tr>\n",
       "  <th>Df Model:</th>              <td>     1</td>      <th>                     </th>     <td> </td>   \n",
       "</tr>\n",
       "<tr>\n",
       "  <th>Covariance Type:</th>      <td>nonrobust</td>    <th>                     </th>     <td> </td>   \n",
       "</tr>\n",
       "</table>\n",
       "<table class=\"simpletable\">\n",
       "<tr>\n",
       "        <td></td>          <th>coef</th>     <th>std err</th>      <th>t</th>      <th>P>|t|</th>  <th>[0.025</th>    <th>0.975]</th>  \n",
       "</tr>\n",
       "<tr>\n",
       "  <th>const</th>        <td>   -0.0512</td> <td>    0.038</td> <td>   -1.346</td> <td> 0.179</td> <td>   -0.126</td> <td>    0.024</td>\n",
       "</tr>\n",
       "<tr>\n",
       "  <th>Returns(%)_x</th> <td>    0.3580</td> <td>    0.024</td> <td>   14.906</td> <td> 0.000</td> <td>    0.311</td> <td>    0.405</td>\n",
       "</tr>\n",
       "</table>\n",
       "<table class=\"simpletable\">\n",
       "<tr>\n",
       "  <th>Omnibus:</th>       <td>35.026</td> <th>  Durbin-Watson:     </th> <td>   1.987</td>\n",
       "</tr>\n",
       "<tr>\n",
       "  <th>Prob(Omnibus):</th> <td> 0.000</td> <th>  Jarque-Bera (JB):  </th> <td> 134.482</td>\n",
       "</tr>\n",
       "<tr>\n",
       "  <th>Skew:</th>          <td> 0.471</td> <th>  Prob(JB):          </th> <td>6.27e-30</td>\n",
       "</tr>\n",
       "<tr>\n",
       "  <th>Kurtosis:</th>      <td> 6.453</td> <th>  Cond. No.          </th> <td>    1.60</td>\n",
       "</tr>\n",
       "</table><br/><br/>Notes:<br/>[1] Standard Errors assume that the covariance matrix of the errors is correctly specified."
      ],
      "text/plain": [
       "<class 'statsmodels.iolib.summary.Summary'>\n",
       "\"\"\"\n",
       "                            OLS Regression Results                            \n",
       "==============================================================================\n",
       "Dep. Variable:           Returns(%)_y   R-squared:                       0.471\n",
       "Model:                            OLS   Adj. R-squared:                  0.468\n",
       "Method:                 Least Squares   F-statistic:                     222.2\n",
       "Date:                Thu, 09 Jun 2022   Prob (F-statistic):           2.21e-36\n",
       "Time:                        17:58:07   Log-Likelihood:                -228.54\n",
       "No. Observations:                 252   AIC:                             461.1\n",
       "Df Residuals:                     250   BIC:                             468.1\n",
       "Df Model:                           1                                         \n",
       "Covariance Type:            nonrobust                                         \n",
       "================================================================================\n",
       "                   coef    std err          t      P>|t|      [0.025      0.975]\n",
       "--------------------------------------------------------------------------------\n",
       "const           -0.0512      0.038     -1.346      0.179      -0.126       0.024\n",
       "Returns(%)_x     0.3580      0.024     14.906      0.000       0.311       0.405\n",
       "==============================================================================\n",
       "Omnibus:                       35.026   Durbin-Watson:                   1.987\n",
       "Prob(Omnibus):                  0.000   Jarque-Bera (JB):              134.482\n",
       "Skew:                           0.471   Prob(JB):                     6.27e-30\n",
       "Kurtosis:                       6.453   Cond. No.                         1.60\n",
       "==============================================================================\n",
       "\n",
       "Notes:\n",
       "[1] Standard Errors assume that the covariance matrix of the errors is correctly specified.\n",
       "\"\"\""
      ]
     },
     "execution_count": 96,
     "metadata": {},
     "output_type": "execute_result"
    }
   ],
   "source": [
    "x1 = sm.add_constant(x)\n",
    "results = sm.OLS(y,x1).fit()\n",
    "results.summary()"
   ]
  },
  {
   "cell_type": "code",
   "execution_count": 99,
   "metadata": {},
   "outputs": [
    {
     "name": "stdout",
     "output_type": "stream",
     "text": [
      "[0.35798346]\n",
      "-0.05120908696796202\n"
     ]
    }
   ],
   "source": [
    "beta = reg.coef_\n",
    "alpha = reg.intercept_\n",
    "print(beta)\n",
    "print(alpha)"
   ]
  },
  {
   "cell_type": "code",
   "execution_count": 72,
   "metadata": {},
   "outputs": [],
   "source": [
    "x = df3['Returns(%)_x']\n",
    "y = df3['Returns(%)_y']"
   ]
  },
  {
   "cell_type": "code",
   "execution_count": 75,
   "metadata": {},
   "outputs": [
    {
     "data": {
      "image/png": "[encoded data removed]",
      "text/plain": [
       "<Figure size 1080x432 with 1 Axes>"
      ]
     },
     "metadata": {},
     "output_type": "display_data"
    }
   ],
   "source": [
    "plt.figure(figsize=(15,6))\n",
    "plt.scatter(x = df3['Returns(%)_x'],y = df3['Returns(%)_y'],c='g')\n",
    "plt.title(\"Apple vs S&P 500 Returns\")\n",
    "plt.plot(x,beta*x+alpha)\n",
    "plt.xlabel(\"Apple returns\")\n",
    "plt.ylabel(\"S&P 500 returns\")\n",
    "plt.show()"
   ]
  },
  {
   "cell_type": "markdown",
   "metadata": {},
   "source": [
    "## Predicting stock returns"
   ]
  },
  {
   "cell_type": "markdown",
   "metadata": {},
   "source": [
    "Predicting the returns on 8th June 2022 using the equation"
   ]
  },
  {
   "cell_type": "markdown",
   "metadata": {},
   "source": [
    "#### Returns on the stock = alpha + beta*(Returns on market)"
   ]
  },
  {
   "cell_type": "code",
   "execution_count": 100,
   "metadata": {},
   "outputs": [],
   "source": [
    "Adj_Close = web.DataReader(name = '^GSPC',data_source = 'yahoo',start = '06-08-2022',end='06-09-2022')['Adj Close']"
   ]
  },
  {
   "cell_type": "code",
   "execution_count": 101,
   "metadata": {},
   "outputs": [
    {
     "data": {
      "text/plain": [
       "Date\n",
       "2022-06-07    4160.680176\n",
       "2022-06-08    4115.770020\n",
       "Name: Adj Close, dtype: float64"
      ]
     },
     "execution_count": 101,
     "metadata": {},
     "output_type": "execute_result"
    }
   ],
   "source": [
    "Adj_Close"
   ]
  },
  {
   "cell_type": "code",
   "execution_count": 102,
   "metadata": {},
   "outputs": [],
   "source": [
    "R_m = ((Adj_Close[1]-Adj_Close[0])/(Adj_Close[1]))*100"
   ]
  },
  {
   "cell_type": "code",
   "execution_count": 103,
   "metadata": {},
   "outputs": [
    {
     "data": {
      "text/plain": [
       "-1.0911726368791343"
      ]
     },
     "execution_count": 103,
     "metadata": {},
     "output_type": "execute_result"
    }
   ],
   "source": [
    "R_m"
   ]
  },
  {
   "cell_type": "code",
   "execution_count": 113,
   "metadata": {},
   "outputs": [],
   "source": [
    "R_pred = reg.predict([[R_m]])[0]"
   ]
  },
  {
   "cell_type": "code",
   "execution_count": 114,
   "metadata": {},
   "outputs": [
    {
     "data": {
      "text/plain": [
       "-0.4418308454693875"
      ]
     },
     "execution_count": 114,
     "metadata": {},
     "output_type": "execute_result"
    }
   ],
   "source": [
    "R_pred"
   ]
  },
  {
   "cell_type": "code",
   "execution_count": 105,
   "metadata": {},
   "outputs": [],
   "source": [
    "Adj_stock = web.DataReader(name = 'AAPL',data_source = 'yahoo',start = '06-08-2022',end='06-09-2022')['Adj Close']"
   ]
  },
  {
   "cell_type": "code",
   "execution_count": 106,
   "metadata": {},
   "outputs": [
    {
     "data": {
      "text/plain": [
       "Date\n",
       "2022-06-07    148.710007\n",
       "2022-06-08    147.960007\n",
       "Name: Adj Close, dtype: float64"
      ]
     },
     "execution_count": 106,
     "metadata": {},
     "output_type": "execute_result"
    }
   ],
   "source": [
    "Adj_stock"
   ]
  },
  {
   "cell_type": "code",
   "execution_count": 115,
   "metadata": {},
   "outputs": [],
   "source": [
    "R_act = ((Adj_stock[1]-Adj_stock[0])/(Adj_stock[1]))*100"
   ]
  },
  {
   "cell_type": "code",
   "execution_count": 116,
   "metadata": {},
   "outputs": [
    {
     "data": {
      "text/plain": [
       "-0.5068937320680102"
      ]
     },
     "execution_count": 116,
     "metadata": {},
     "output_type": "execute_result"
    }
   ],
   "source": [
    "R_act"
   ]
  },
  {
   "cell_type": "markdown",
   "metadata": {},
   "source": [
    "## The error in the forecast"
   ]
  },
  {
   "cell_type": "code",
   "execution_count": 124,
   "metadata": {},
   "outputs": [
    {
     "data": {
      "text/plain": [
       "-0.06506288659862275"
      ]
     },
     "execution_count": 124,
     "metadata": {},
     "output_type": "execute_result"
    }
   ],
   "source": [
    "R_act - R_pred"
   ]
  },
  {
   "cell_type": "code",
   "execution_count": 126,
   "metadata": {},
   "outputs": [
    {
     "name": "stdout",
     "output_type": "stream",
     "text": [
      "Error in the forecast is -0.07%\n"
     ]
    }
   ],
   "source": [
    "print(f\"Error in the forecast is {(R_act - R_pred).round(2)}%\")"
   ]
  },
  {
   "cell_type": "code",
   "execution_count": null,
   "metadata": {},
   "outputs": [],
   "source": []
  }
 ],
 "metadata": {
  "kernelspec": {
   "display_name": "Python 3",
   "language": "python",
   "name": "python3"
  },
  "language_info": {
   "codemirror_mode": {
    "name": "ipython",
    "version": 3
   },
   "file_extension": ".py",
   "mimetype": "text/x-python",
   "name": "python",
   "nbconvert_exporter": "python",
   "pygments_lexer": "ipython3",
   "version": "3.8.5"
  }
 },
 "nbformat": 4,
 "nbformat_minor": 4
}
