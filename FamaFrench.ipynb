{
 "cells": [
  {
   "cell_type": "markdown",
   "metadata": {},
   "source": [
    "### Getting Started"
   ]
  },
  {
   "cell_type": "code",
   "execution_count": 1,
   "metadata": {},
   "outputs": [
    {
     "name": "stdout",
     "output_type": "stream",
     "text": [
      "Requirement already satisfied: pandas_datareader in c:\\users\\kshit\\anaconda3\\lib\\site-packages (0.10.0)\n",
      "Requirement already satisfied: pandas>=0.23 in c:\\users\\kshit\\anaconda3\\lib\\site-packages (from pandas_datareader) (1.1.3)\n",
      "Requirement already satisfied: requests>=2.19.0 in c:\\users\\kshit\\anaconda3\\lib\\site-packages (from pandas_datareader) (2.24.0)\n",
      "Requirement already satisfied: lxml in c:\\users\\kshit\\anaconda3\\lib\\site-packages (from pandas_datareader) (4.6.1)\n",
      "Requirement already satisfied: pytz>=2017.2 in c:\\users\\kshit\\anaconda3\\lib\\site-packages (from pandas>=0.23->pandas_datareader) (2020.1)\n",
      "Requirement already satisfied: python-dateutil>=2.7.3 in c:\\users\\kshit\\anaconda3\\lib\\site-packages (from pandas>=0.23->pandas_datareader) (2.8.1)\n",
      "Requirement already satisfied: numpy>=1.15.4 in c:\\users\\kshit\\anaconda3\\lib\\site-packages (from pandas>=0.23->pandas_datareader) (1.19.2)\n",
      "Requirement already satisfied: chardet<4,>=3.0.2 in c:\\users\\kshit\\anaconda3\\lib\\site-packages (from requests>=2.19.0->pandas_datareader) (3.0.4)\n",
      "Requirement already satisfied: idna<3,>=2.5 in c:\\users\\kshit\\anaconda3\\lib\\site-packages (from requests>=2.19.0->pandas_datareader) (2.10)\n",
      "Requirement already satisfied: urllib3!=1.25.0,!=1.25.1,<1.26,>=1.21.1 in c:\\users\\kshit\\anaconda3\\lib\\site-packages (from requests>=2.19.0->pandas_datareader) (1.25.11)\n",
      "Requirement already satisfied: certifi>=2017.4.17 in c:\\users\\kshit\\anaconda3\\lib\\site-packages (from requests>=2.19.0->pandas_datareader) (2020.6.20)\n",
      "Requirement already satisfied: six>=1.5 in c:\\users\\kshit\\anaconda3\\lib\\site-packages (from python-dateutil>=2.7.3->pandas>=0.23->pandas_datareader) (1.15.0)\n",
      "\n",
      "[notice] A new release of pip available: 22.1.2 -> 22.2.2\n",
      "[notice] To update, run: python.exe -m pip install --upgrade pip\n",
      "Note: you may need to restart the kernel to use updated packages.\n"
     ]
    }
   ],
   "source": [
    "pip install pandas_datareader"
   ]
  },
  {
   "cell_type": "code",
   "execution_count": 2,
   "metadata": {},
   "outputs": [
    {
     "name": "stdout",
     "output_type": "stream",
     "text": [
      "Requirement already satisfied: getFamaFrenchFactors in c:\\users\\kshit\\anaconda3\\lib\\site-packages (0.0.5)\n",
      "Requirement already satisfied: pandas in c:\\users\\kshit\\anaconda3\\lib\\site-packages (from getFamaFrenchFactors) (1.1.3)\n",
      "Requirement already satisfied: bs4 in c:\\users\\kshit\\anaconda3\\lib\\site-packages (from getFamaFrenchFactors) (0.0.1)\n",
      "Requirement already satisfied: requests in c:\\users\\kshit\\anaconda3\\lib\\site-packages (from getFamaFrenchFactors) (2.24.0)\n",
      "Requirement already satisfied: beautifulsoup4 in c:\\users\\kshit\\anaconda3\\lib\\site-packages (from bs4->getFamaFrenchFactors) (4.9.3)\n",
      "Requirement already satisfied: numpy>=1.15.4 in c:\\users\\kshit\\anaconda3\\lib\\site-packages (from pandas->getFamaFrenchFactors) (1.19.2)\n",
      "Requirement already satisfied: python-dateutil>=2.7.3 in c:\\users\\kshit\\anaconda3\\lib\\site-packages (from pandas->getFamaFrenchFactors) (2.8.1)\n",
      "Requirement already satisfied: pytz>=2017.2 in c:\\users\\kshit\\anaconda3\\lib\\site-packages (from pandas->getFamaFrenchFactors) (2020.1)\n",
      "Requirement already satisfied: chardet<4,>=3.0.2 in c:\\users\\kshit\\anaconda3\\lib\\site-packages (from requests->getFamaFrenchFactors) (3.0.4)\n",
      "Requirement already satisfied: idna<3,>=2.5 in c:\\users\\kshit\\anaconda3\\lib\\site-packages (from requests->getFamaFrenchFactors) (2.10)\n",
      "Requirement already satisfied: urllib3!=1.25.0,!=1.25.1,<1.26,>=1.21.1 in c:\\users\\kshit\\anaconda3\\lib\\site-packages (from requests->getFamaFrenchFactors) (1.25.11)\n",
      "Requirement already satisfied: certifi>=2017.4.17 in c:\\users\\kshit\\anaconda3\\lib\\site-packages (from requests->getFamaFrenchFactors) (2020.6.20)\n",
      "Requirement already satisfied: six>=1.5 in c:\\users\\kshit\\anaconda3\\lib\\site-packages (from python-dateutil>=2.7.3->pandas->getFamaFrenchFactors) (1.15.0)\n",
      "Requirement already satisfied: soupsieve>1.2 in c:\\users\\kshit\\anaconda3\\lib\\site-packages (from beautifulsoup4->bs4->getFamaFrenchFactors) (2.0.1)\n",
      "\n",
      "[notice] A new release of pip available: 22.1.2 -> 22.2.2\n",
      "[notice] To update, run: python.exe -m pip install --upgrade pip\n",
      "Note: you may need to restart the kernel to use updated packages.\n"
     ]
    }
   ],
   "source": [
    "pip install getFamaFrenchFactors"
   ]
  },
  {
   "cell_type": "code",
   "execution_count": 3,
   "metadata": {},
   "outputs": [],
   "source": [
    "from scipy import stats\n",
    "import pandas as pd\n",
    "import pandas_datareader as web \n",
    "import datetime\n",
    "import matplotlib.pyplot as plt\n",
    "import getFamaFrenchFactors as gff\n",
    "%matplotlib inline"
   ]
  },
  {
   "cell_type": "code",
   "execution_count": 4,
   "metadata": {},
   "outputs": [],
   "source": [
    "start=datetime.datetime(2012,1,1)\n",
    "end=datetime.datetime(2022,8,16)"
   ]
  },
  {
   "cell_type": "code",
   "execution_count": 5,
   "metadata": {
    "scrolled": true
   },
   "outputs": [
    {
     "data": {
      "text/plain": [
       "Date\n",
       "2012-01-03    16.651901\n",
       "2012-01-04    16.723724\n",
       "2012-01-05    16.491741\n",
       "2012-01-06    16.266768\n",
       "2012-01-09    15.577077\n",
       "Name: Adj Close, dtype: float64"
      ]
     },
     "execution_count": 5,
     "metadata": {},
     "output_type": "execute_result"
    }
   ],
   "source": [
    "df_b=web.DataReader(\"GOOGL\",\"yahoo\",start,end)['Adj Close']\n",
    "# df_b=web.DataReader(\"M&M.NS\",\"yahoo\",start,end)['Adj Close']\n",
    "df_b.head()"
   ]
  },
  {
   "cell_type": "code",
   "execution_count": 6,
   "metadata": {},
   "outputs": [
    {
     "data": {
      "text/plain": [
       "<matplotlib.legend.Legend at 0x23eb91869a0>"
      ]
     },
     "execution_count": 6,
     "metadata": {},
     "output_type": "execute_result"
    },
    {
     "data": {
      "image/png": "[encoded data removed]",
      "text/plain": [
       "<Figure size 432x288 with 1 Axes>"
      ]
     },
     "metadata": {
      "needs_background": "light"
     },
     "output_type": "display_data"
    }
   ],
   "source": [
    "df_b.plot(label = 'Google')\n",
    "plt.legend()"
   ]
  },
  {
   "cell_type": "code",
   "execution_count": 7,
   "metadata": {},
   "outputs": [],
   "source": [
    "mon_b = df_b.resample('1M').last()\n",
    "mon_b_ret = mon_b.pct_change().dropna()"
   ]
  },
  {
   "cell_type": "code",
   "execution_count": 8,
   "metadata": {},
   "outputs": [
    {
     "data": {
      "text/plain": [
       "Date\n",
       "2012-02-29    0.065746\n",
       "2012-03-31    0.037186\n",
       "2012-04-30   -0.056749\n",
       "2012-05-31   -0.039663\n",
       "2012-06-30   -0.001360\n",
       "Freq: M, Name: Adj Close, dtype: float64"
      ]
     },
     "execution_count": 8,
     "metadata": {},
     "output_type": "execute_result"
    }
   ],
   "source": [
    "mon_b_ret.head()"
   ]
  },
  {
   "cell_type": "code",
   "execution_count": 9,
   "metadata": {},
   "outputs": [],
   "source": [
    "ff3 = pd.DataFrame(gff.famaFrench3Factor(frequency='m'))\n",
    "\n",
    "#create a seq of dates\n",
    "date_seq = pd.date_range(start=start, end=end,freq='M')\n",
    "\n",
    "#set date columns\n",
    "ff3 = ff3.rename(columns = {'date_ff_factors':'Date'})"
   ]
  },
  {
   "cell_type": "code",
   "execution_count": 10,
   "metadata": {},
   "outputs": [],
   "source": [
    "data = pd.merge(mon_b_ret,ff3,on='Date',how='left')\n",
    "data = data.set_index('Date')\n",
    "\n",
    "data = data.dropna()"
   ]
  },
  {
   "cell_type": "code",
   "execution_count": 11,
   "metadata": {
    "scrolled": true
   },
   "outputs": [
    {
     "data": {
      "text/html": [
       "<div>\n",
       "<style scoped>\n",
       "    .dataframe tbody tr th:only-of-type {\n",
       "        vertical-align: middle;\n",
       "    }\n",
       "\n",
       "    .dataframe tbody tr th {\n",
       "        vertical-align: top;\n",
       "    }\n",
       "\n",
       "    .dataframe thead th {\n",
       "        text-align: right;\n",
       "    }\n",
       "</style>\n",
       "<table border=\"1\" class=\"dataframe\">\n",
       "  <thead>\n",
       "    <tr style=\"text-align: right;\">\n",
       "      <th></th>\n",
       "      <th>Adj Close</th>\n",
       "      <th>Mkt-RF</th>\n",
       "      <th>SMB</th>\n",
       "      <th>HML</th>\n",
       "      <th>RF</th>\n",
       "    </tr>\n",
       "    <tr>\n",
       "      <th>Date</th>\n",
       "      <th></th>\n",
       "      <th></th>\n",
       "      <th></th>\n",
       "      <th></th>\n",
       "      <th></th>\n",
       "    </tr>\n",
       "  </thead>\n",
       "  <tbody>\n",
       "    <tr>\n",
       "      <th>2012-02-29</th>\n",
       "      <td>0.065746</td>\n",
       "      <td>0.0442</td>\n",
       "      <td>-0.0186</td>\n",
       "      <td>0.0043</td>\n",
       "      <td>0.0000</td>\n",
       "    </tr>\n",
       "    <tr>\n",
       "      <th>2012-03-31</th>\n",
       "      <td>0.037186</td>\n",
       "      <td>0.0311</td>\n",
       "      <td>-0.0066</td>\n",
       "      <td>0.0112</td>\n",
       "      <td>0.0000</td>\n",
       "    </tr>\n",
       "    <tr>\n",
       "      <th>2012-04-30</th>\n",
       "      <td>-0.056749</td>\n",
       "      <td>-0.0085</td>\n",
       "      <td>-0.0041</td>\n",
       "      <td>-0.0077</td>\n",
       "      <td>0.0000</td>\n",
       "    </tr>\n",
       "    <tr>\n",
       "      <th>2012-05-31</th>\n",
       "      <td>-0.039663</td>\n",
       "      <td>-0.0619</td>\n",
       "      <td>0.0009</td>\n",
       "      <td>-0.0106</td>\n",
       "      <td>0.0001</td>\n",
       "    </tr>\n",
       "    <tr>\n",
       "      <th>2012-06-30</th>\n",
       "      <td>-0.001360</td>\n",
       "      <td>0.0389</td>\n",
       "      <td>0.0064</td>\n",
       "      <td>0.0059</td>\n",
       "      <td>0.0000</td>\n",
       "    </tr>\n",
       "    <tr>\n",
       "      <th>...</th>\n",
       "      <td>...</td>\n",
       "      <td>...</td>\n",
       "      <td>...</td>\n",
       "      <td>...</td>\n",
       "      <td>...</td>\n",
       "    </tr>\n",
       "    <tr>\n",
       "      <th>2022-02-28</th>\n",
       "      <td>-0.001822</td>\n",
       "      <td>-0.0229</td>\n",
       "      <td>0.0218</td>\n",
       "      <td>0.0309</td>\n",
       "      <td>0.0000</td>\n",
       "    </tr>\n",
       "    <tr>\n",
       "      <th>2022-03-31</th>\n",
       "      <td>0.029695</td>\n",
       "      <td>0.0305</td>\n",
       "      <td>-0.0161</td>\n",
       "      <td>-0.0182</td>\n",
       "      <td>0.0001</td>\n",
       "    </tr>\n",
       "    <tr>\n",
       "      <th>2022-04-30</th>\n",
       "      <td>-0.179467</td>\n",
       "      <td>-0.0946</td>\n",
       "      <td>-0.0140</td>\n",
       "      <td>0.0616</td>\n",
       "      <td>0.0001</td>\n",
       "    </tr>\n",
       "    <tr>\n",
       "      <th>2022-05-31</th>\n",
       "      <td>-0.003045</td>\n",
       "      <td>-0.0034</td>\n",
       "      <td>-0.0187</td>\n",
       "      <td>0.0838</td>\n",
       "      <td>0.0003</td>\n",
       "    </tr>\n",
       "    <tr>\n",
       "      <th>2022-06-30</th>\n",
       "      <td>-0.042185</td>\n",
       "      <td>-0.0843</td>\n",
       "      <td>0.0209</td>\n",
       "      <td>-0.0593</td>\n",
       "      <td>0.0006</td>\n",
       "    </tr>\n",
       "  </tbody>\n",
       "</table>\n",
       "<p>125 rows × 5 columns</p>\n",
       "</div>"
      ],
      "text/plain": [
       "            Adj Close  Mkt-RF     SMB     HML      RF\n",
       "Date                                                 \n",
       "2012-02-29   0.065746  0.0442 -0.0186  0.0043  0.0000\n",
       "2012-03-31   0.037186  0.0311 -0.0066  0.0112  0.0000\n",
       "2012-04-30  -0.056749 -0.0085 -0.0041 -0.0077  0.0000\n",
       "2012-05-31  -0.039663 -0.0619  0.0009 -0.0106  0.0001\n",
       "2012-06-30  -0.001360  0.0389  0.0064  0.0059  0.0000\n",
       "...               ...     ...     ...     ...     ...\n",
       "2022-02-28  -0.001822 -0.0229  0.0218  0.0309  0.0000\n",
       "2022-03-31   0.029695  0.0305 -0.0161 -0.0182  0.0001\n",
       "2022-04-30  -0.179467 -0.0946 -0.0140  0.0616  0.0001\n",
       "2022-05-31  -0.003045 -0.0034 -0.0187  0.0838  0.0003\n",
       "2022-06-30  -0.042185 -0.0843  0.0209 -0.0593  0.0006\n",
       "\n",
       "[125 rows x 5 columns]"
      ]
     },
     "execution_count": 11,
     "metadata": {},
     "output_type": "execute_result"
    }
   ],
   "source": [
    "data"
   ]
  },
  {
   "cell_type": "markdown",
   "metadata": {},
   "source": [
    "## Implementing the Linear Regression Model"
   ]
  },
  {
   "cell_type": "code",
   "execution_count": 12,
   "metadata": {},
   "outputs": [],
   "source": [
    "from sklearn.linear_model import LinearRegression\n",
    "from sklearn.model_selection import train_test_split\n",
    "from sklearn.metrics import r2_score,mean_squared_error,mean_absolute_error"
   ]
  },
  {
   "cell_type": "code",
   "execution_count": 13,
   "metadata": {},
   "outputs": [],
   "source": [
    "y = data['Adj Close']\n",
    "X = data[['Mkt-RF','SMB','HML']]"
   ]
  },
  {
   "cell_type": "code",
   "execution_count": 14,
   "metadata": {},
   "outputs": [],
   "source": [
    "X_train, X_test, y_train, y_test = train_test_split(X,y,test_size = 0.2,random_state = 42);"
   ]
  },
  {
   "cell_type": "code",
   "execution_count": 15,
   "metadata": {},
   "outputs": [],
   "source": [
    "reg = LinearRegression()"
   ]
  },
  {
   "cell_type": "code",
   "execution_count": 16,
   "metadata": {},
   "outputs": [
    {
     "data": {
      "text/plain": [
       "LinearRegression()"
      ]
     },
     "execution_count": 16,
     "metadata": {},
     "output_type": "execute_result"
    }
   ],
   "source": [
    "reg.fit(X_train,y_train)"
   ]
  },
  {
   "cell_type": "code",
   "execution_count": 17,
   "metadata": {},
   "outputs": [],
   "source": [
    "y_pred = reg.predict(X_test)"
   ]
  },
  {
   "cell_type": "code",
   "execution_count": 18,
   "metadata": {},
   "outputs": [
    {
     "data": {
      "text/plain": [
       "0.43355706899333935"
      ]
     },
     "execution_count": 18,
     "metadata": {},
     "output_type": "execute_result"
    }
   ],
   "source": [
    "r2_score(y_pred,y_test)"
   ]
  },
  {
   "cell_type": "code",
   "execution_count": 19,
   "metadata": {},
   "outputs": [
    {
     "data": {
      "text/plain": [
       "array([ 1.10092093, -0.44513975, -0.27616914])"
      ]
     },
     "execution_count": 19,
     "metadata": {},
     "output_type": "execute_result"
    }
   ],
   "source": [
    "reg.coef_"
   ]
  },
  {
   "cell_type": "code",
   "execution_count": 20,
   "metadata": {},
   "outputs": [],
   "source": [
    "Mkt, SMB, HML=reg.coef_"
   ]
  },
  {
   "cell_type": "code",
   "execution_count": 21,
   "metadata": {},
   "outputs": [],
   "source": [
    "Int = reg.intercept_"
   ]
  },
  {
   "cell_type": "markdown",
   "metadata": {},
   "source": [
    "#### Expected Montly Returns = Int + Mkt * (data['Mkt-RF']) + SMB * (data['SMB']) + HML * (data['HML'])"
   ]
  },
  {
   "cell_type": "code",
   "execution_count": null,
   "metadata": {},
   "outputs": [],
   "source": []
  }
 ],
 "metadata": {
  "kernelspec": {
   "display_name": "Python 3",
   "language": "python",
   "name": "python3"
  },
  "language_info": {
   "codemirror_mode": {
    "name": "ipython",
    "version": 3
   },
   "file_extension": ".py",
   "mimetype": "text/x-python",
   "name": "python",
   "nbconvert_exporter": "python",
   "pygments_lexer": "ipython3",
   "version": "3.8.5"
  }
 },
 "nbformat": 4,
 "nbformat_minor": 4
}
